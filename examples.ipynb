{
 "cells": [
  {
   "cell_type": "code",
   "execution_count": 1,
   "metadata": {
    "ExecuteTime": {
     "end_time": "2023-06-21T18:36:00.714242900Z",
     "start_time": "2023-06-21T18:35:59.239910600Z"
    }
   },
   "outputs": [],
   "source": [
    "import metronome as met\n",
    "import pandas as pd"
   ]
  },
  {
   "cell_type": "code",
   "execution_count": 2,
   "metadata": {
    "ExecuteTime": {
     "end_time": "2023-06-21T18:36:00.778256300Z",
     "start_time": "2023-06-21T18:36:00.717242500Z"
    }
   },
   "outputs": [
    {
     "data": {
      "text/plain": "                      author                                  work    born  \\\n0      Mužík, Augustin Eugen                           Píseň muže.  1859.0   \n1                Dyk, Viktor                     „VOGELFREI“ (VII)  1877.0   \n2        Vrchlický, Jaroslav  Poslední láska Dona Juana. (XLVIII.)  1853.0   \n3       Sládek, Josef Václav                            BABÍ LÉTO.  1845.0   \n4                Dyk, Viktor                              ROZCESTÍ  1877.0   \n..                       ...                                   ...     ...   \n95           Čech, Svatopluk                 DO SVĚTA ŠIRÉHO. (X.)  1846.0   \n96           Červinka, Adolf                            NA POMEZÍ.  1875.0   \n97        Popelka, Stanislav                       SIROTEK. (III.)     NaN   \n98       Klášterský, Antonín                   BALLADA VELKONOČNÍ.  1866.0   \n99  Kamarýt, Josef Vlastimil                                  631.  1797.0   \n\n      year                                          metronome  meter  \n0   1894.0  S.Sw.Sw.Sww.|w.Sw.Sw.Sww.|S.w.w.Sw.Sw.w.|w.Sww...     J4  \n1   1922.0  S.S.w.Sww.w.Sw.Sw.Sw.|w.Sw.Sww.w.Sww.w.Sw.|S.S...  alex6  \n2   1889.0  Sww.w.Sw.Sw.|w.w.S.w.Sw.Sw.|Sww.w.S.w.Sw.|w.w....     T4  \n3   1907.0  Sw.Sw.Sw.|w.w.Sww.|w.w.Sw.Sw.|Sw.Sw.Sw.|S.w.Sw...     T3  \n4   1931.0  Sww.Sw.Sw.S.www.|S.Sww.w.Sww.w.Sw.|w.Sw.S.Sww....     J5  \n..     ...                                                ...    ...  \n95  1910.0  w.w.Sw.S.www.|w.w.Sw.S.w.S.|Sw.Sw.S.w.Sw.|Sw.S...     T4  \n96  1907.0  Sw.Sw.Swww.|S.ww.w.Sww.|Sww.w.Sw.Sw.|Sw.Sw.S.w...     T4  \n97  1911.0  S.Sw.S.w.Sw.Sw.|Sww.w.Sw.S.w.Sw.|Sww.Sw.w.w.w....     J5  \n98  1912.0  S.w.Sw.Sw.Sw.|Sw.Sw.Sw.Sw.|S.www.Sw.Sw.|w.w.Sw...     T4  \n99  1834.0                               Swww.Sw.|w.w.Sw.Sw.|     T3  \n\n[100 rows x 6 columns]",
      "text/html": "<div>\n<style scoped>\n    .dataframe tbody tr th:only-of-type {\n        vertical-align: middle;\n    }\n\n    .dataframe tbody tr th {\n        vertical-align: top;\n    }\n\n    .dataframe thead th {\n        text-align: right;\n    }\n</style>\n<table border=\"1\" class=\"dataframe\">\n  <thead>\n    <tr style=\"text-align: right;\">\n      <th></th>\n      <th>author</th>\n      <th>work</th>\n      <th>born</th>\n      <th>year</th>\n      <th>metronome</th>\n      <th>meter</th>\n    </tr>\n  </thead>\n  <tbody>\n    <tr>\n      <th>0</th>\n      <td>Mužík, Augustin Eugen</td>\n      <td>Píseň muže.</td>\n      <td>1859.0</td>\n      <td>1894.0</td>\n      <td>S.Sw.Sw.Sww.|w.Sw.Sw.Sww.|S.w.w.Sw.Sw.w.|w.Sww...</td>\n      <td>J4</td>\n    </tr>\n    <tr>\n      <th>1</th>\n      <td>Dyk, Viktor</td>\n      <td>„VOGELFREI“ (VII)</td>\n      <td>1877.0</td>\n      <td>1922.0</td>\n      <td>S.S.w.Sww.w.Sw.Sw.Sw.|w.Sw.Sww.w.Sww.w.Sw.|S.S...</td>\n      <td>alex6</td>\n    </tr>\n    <tr>\n      <th>2</th>\n      <td>Vrchlický, Jaroslav</td>\n      <td>Poslední láska Dona Juana. (XLVIII.)</td>\n      <td>1853.0</td>\n      <td>1889.0</td>\n      <td>Sww.w.Sw.Sw.|w.w.S.w.Sw.Sw.|Sww.w.S.w.Sw.|w.w....</td>\n      <td>T4</td>\n    </tr>\n    <tr>\n      <th>3</th>\n      <td>Sládek, Josef Václav</td>\n      <td>BABÍ LÉTO.</td>\n      <td>1845.0</td>\n      <td>1907.0</td>\n      <td>Sw.Sw.Sw.|w.w.Sww.|w.w.Sw.Sw.|Sw.Sw.Sw.|S.w.Sw...</td>\n      <td>T3</td>\n    </tr>\n    <tr>\n      <th>4</th>\n      <td>Dyk, Viktor</td>\n      <td>ROZCESTÍ</td>\n      <td>1877.0</td>\n      <td>1931.0</td>\n      <td>Sww.Sw.Sw.S.www.|S.Sww.w.Sww.w.Sw.|w.Sw.S.Sww....</td>\n      <td>J5</td>\n    </tr>\n    <tr>\n      <th>...</th>\n      <td>...</td>\n      <td>...</td>\n      <td>...</td>\n      <td>...</td>\n      <td>...</td>\n      <td>...</td>\n    </tr>\n    <tr>\n      <th>95</th>\n      <td>Čech, Svatopluk</td>\n      <td>DO SVĚTA ŠIRÉHO. (X.)</td>\n      <td>1846.0</td>\n      <td>1910.0</td>\n      <td>w.w.Sw.S.www.|w.w.Sw.S.w.S.|Sw.Sw.S.w.Sw.|Sw.S...</td>\n      <td>T4</td>\n    </tr>\n    <tr>\n      <th>96</th>\n      <td>Červinka, Adolf</td>\n      <td>NA POMEZÍ.</td>\n      <td>1875.0</td>\n      <td>1907.0</td>\n      <td>Sw.Sw.Swww.|S.ww.w.Sww.|Sww.w.Sw.Sw.|Sw.Sw.S.w...</td>\n      <td>T4</td>\n    </tr>\n    <tr>\n      <th>97</th>\n      <td>Popelka, Stanislav</td>\n      <td>SIROTEK. (III.)</td>\n      <td>NaN</td>\n      <td>1911.0</td>\n      <td>S.Sw.S.w.Sw.Sw.|Sww.w.Sw.S.w.Sw.|Sww.Sw.w.w.w....</td>\n      <td>J5</td>\n    </tr>\n    <tr>\n      <th>98</th>\n      <td>Klášterský, Antonín</td>\n      <td>BALLADA VELKONOČNÍ.</td>\n      <td>1866.0</td>\n      <td>1912.0</td>\n      <td>S.w.Sw.Sw.Sw.|Sw.Sw.Sw.Sw.|S.www.Sw.Sw.|w.w.Sw...</td>\n      <td>T4</td>\n    </tr>\n    <tr>\n      <th>99</th>\n      <td>Kamarýt, Josef Vlastimil</td>\n      <td>631.</td>\n      <td>1797.0</td>\n      <td>1834.0</td>\n      <td>Swww.Sw.|w.w.Sw.Sw.|</td>\n      <td>T3</td>\n    </tr>\n  </tbody>\n</table>\n<p>100 rows × 6 columns</p>\n</div>"
     },
     "execution_count": 2,
     "metadata": {},
     "output_type": "execute_result"
    }
   ],
   "source": [
    "df = pd.read_csv('cs_sample.csv', index_col=0)\n",
    "df"
   ]
  },
  {
   "attachments": {},
   "cell_type": "markdown",
   "metadata": {},
   "source": [
    "# Scoring Examples"
   ]
  },
  {
   "cell_type": "code",
   "execution_count": 3,
   "metadata": {
    "ExecuteTime": {
     "end_time": "2023-06-21T18:36:07.913866600Z",
     "start_time": "2023-06-21T18:36:00.748250500Z"
    }
   },
   "outputs": [
    {
     "data": {
      "text/plain": "          0         1         2         3         4         5         6   \\\n0   0.000000  0.581395  0.583916  0.722222  0.620763  0.389535  0.573643   \n1   0.581395  0.000000  0.566434  0.636628  0.584302  0.593023  0.526163   \n2   0.583916  0.566434  0.000000  0.646853  0.562937  0.580420  0.559441   \n3   0.722222  0.636628  0.646853  0.000000  0.634921  0.687831  0.600529   \n4   0.620763  0.584302  0.562937  0.634921  0.000000  0.608051  0.472458   \n..       ...       ...       ...       ...       ...       ...       ...   \n95  0.612403  0.598837  0.426573  0.634921  0.629237  0.588768  0.610922   \n96  0.604651  0.569767  0.430070  0.656085  0.625000  0.585145  0.627986   \n97  0.571705  0.473837  0.552448  0.611111  0.529661  0.579710  0.395904   \n98  0.594961  0.578488  0.328671  0.619048  0.593220  0.545290  0.575085   \n99  0.350000  0.400000  0.200000  0.250000  0.400000  0.450000  0.350000   \n\n          7         8         9   ...        90        91        92        93  \\\n0   0.564356  0.536822  0.672481  ...  0.577519  0.585271  0.439922  0.650735   \n1   0.514851  0.526163  0.508721  ...  0.531977  0.531977  0.561047  0.599265   \n2   0.420792  0.562937  0.520979  ...  0.555944  0.569930  0.562937  0.621324   \n3   0.618812  0.608466  0.592593  ...  0.544974  0.579365  0.658730  0.577206   \n4   0.564356  0.485169  0.633475  ...  0.510593  0.512712  0.597458  0.595588   \n..       ...       ...       ...  ...       ...       ...       ...       ...   \n95  0.277228  0.649398  0.526563  ...  0.601205  0.630682  0.588629  0.503676   \n96  0.346535  0.618750  0.570312  ...  0.584375  0.639062  0.640468  0.536765   \n97  0.549505  0.535264  0.631250  ...  0.523929  0.490057  0.536789  0.625000   \n98  0.316832  0.635287  0.512500  ...  0.567416  0.612216  0.541806  0.503676   \n99  0.400000  0.300000  0.300000  ...  0.200000  0.350000  0.300000  0.350000   \n\n          94        95        96        97        98    99  \n0   0.472727  0.612403  0.604651  0.571705  0.594961  0.35  \n1   0.418182  0.598837  0.569767  0.473837  0.578488  0.40  \n2   0.536364  0.426573  0.430070  0.552448  0.328671  0.20  \n3   0.563636  0.634921  0.656085  0.611111  0.619048  0.25  \n4   0.454545  0.629237  0.625000  0.529661  0.593220  0.40  \n..       ...       ...       ...       ...       ...   ...  \n95  0.509091  0.000000  0.451562  0.614610  0.410843  0.20  \n96  0.500000  0.451562  0.000000  0.623437  0.415625  0.15  \n97  0.390909  0.614610  0.623437  0.000000  0.571788  0.30  \n98  0.463636  0.410843  0.415625  0.571788  0.000000  0.20  \n99  0.300000  0.200000  0.150000  0.300000  0.200000  0.00  \n\n[100 rows x 100 columns]",
      "text/html": "<div>\n<style scoped>\n    .dataframe tbody tr th:only-of-type {\n        vertical-align: middle;\n    }\n\n    .dataframe tbody tr th {\n        vertical-align: top;\n    }\n\n    .dataframe thead th {\n        text-align: right;\n    }\n</style>\n<table border=\"1\" class=\"dataframe\">\n  <thead>\n    <tr style=\"text-align: right;\">\n      <th></th>\n      <th>0</th>\n      <th>1</th>\n      <th>2</th>\n      <th>3</th>\n      <th>4</th>\n      <th>5</th>\n      <th>6</th>\n      <th>7</th>\n      <th>8</th>\n      <th>9</th>\n      <th>...</th>\n      <th>90</th>\n      <th>91</th>\n      <th>92</th>\n      <th>93</th>\n      <th>94</th>\n      <th>95</th>\n      <th>96</th>\n      <th>97</th>\n      <th>98</th>\n      <th>99</th>\n    </tr>\n  </thead>\n  <tbody>\n    <tr>\n      <th>0</th>\n      <td>0.000000</td>\n      <td>0.581395</td>\n      <td>0.583916</td>\n      <td>0.722222</td>\n      <td>0.620763</td>\n      <td>0.389535</td>\n      <td>0.573643</td>\n      <td>0.564356</td>\n      <td>0.536822</td>\n      <td>0.672481</td>\n      <td>...</td>\n      <td>0.577519</td>\n      <td>0.585271</td>\n      <td>0.439922</td>\n      <td>0.650735</td>\n      <td>0.472727</td>\n      <td>0.612403</td>\n      <td>0.604651</td>\n      <td>0.571705</td>\n      <td>0.594961</td>\n      <td>0.35</td>\n    </tr>\n    <tr>\n      <th>1</th>\n      <td>0.581395</td>\n      <td>0.000000</td>\n      <td>0.566434</td>\n      <td>0.636628</td>\n      <td>0.584302</td>\n      <td>0.593023</td>\n      <td>0.526163</td>\n      <td>0.514851</td>\n      <td>0.526163</td>\n      <td>0.508721</td>\n      <td>...</td>\n      <td>0.531977</td>\n      <td>0.531977</td>\n      <td>0.561047</td>\n      <td>0.599265</td>\n      <td>0.418182</td>\n      <td>0.598837</td>\n      <td>0.569767</td>\n      <td>0.473837</td>\n      <td>0.578488</td>\n      <td>0.40</td>\n    </tr>\n    <tr>\n      <th>2</th>\n      <td>0.583916</td>\n      <td>0.566434</td>\n      <td>0.000000</td>\n      <td>0.646853</td>\n      <td>0.562937</td>\n      <td>0.580420</td>\n      <td>0.559441</td>\n      <td>0.420792</td>\n      <td>0.562937</td>\n      <td>0.520979</td>\n      <td>...</td>\n      <td>0.555944</td>\n      <td>0.569930</td>\n      <td>0.562937</td>\n      <td>0.621324</td>\n      <td>0.536364</td>\n      <td>0.426573</td>\n      <td>0.430070</td>\n      <td>0.552448</td>\n      <td>0.328671</td>\n      <td>0.20</td>\n    </tr>\n    <tr>\n      <th>3</th>\n      <td>0.722222</td>\n      <td>0.636628</td>\n      <td>0.646853</td>\n      <td>0.000000</td>\n      <td>0.634921</td>\n      <td>0.687831</td>\n      <td>0.600529</td>\n      <td>0.618812</td>\n      <td>0.608466</td>\n      <td>0.592593</td>\n      <td>...</td>\n      <td>0.544974</td>\n      <td>0.579365</td>\n      <td>0.658730</td>\n      <td>0.577206</td>\n      <td>0.563636</td>\n      <td>0.634921</td>\n      <td>0.656085</td>\n      <td>0.611111</td>\n      <td>0.619048</td>\n      <td>0.25</td>\n    </tr>\n    <tr>\n      <th>4</th>\n      <td>0.620763</td>\n      <td>0.584302</td>\n      <td>0.562937</td>\n      <td>0.634921</td>\n      <td>0.000000</td>\n      <td>0.608051</td>\n      <td>0.472458</td>\n      <td>0.564356</td>\n      <td>0.485169</td>\n      <td>0.633475</td>\n      <td>...</td>\n      <td>0.510593</td>\n      <td>0.512712</td>\n      <td>0.597458</td>\n      <td>0.595588</td>\n      <td>0.454545</td>\n      <td>0.629237</td>\n      <td>0.625000</td>\n      <td>0.529661</td>\n      <td>0.593220</td>\n      <td>0.40</td>\n    </tr>\n    <tr>\n      <th>...</th>\n      <td>...</td>\n      <td>...</td>\n      <td>...</td>\n      <td>...</td>\n      <td>...</td>\n      <td>...</td>\n      <td>...</td>\n      <td>...</td>\n      <td>...</td>\n      <td>...</td>\n      <td>...</td>\n      <td>...</td>\n      <td>...</td>\n      <td>...</td>\n      <td>...</td>\n      <td>...</td>\n      <td>...</td>\n      <td>...</td>\n      <td>...</td>\n      <td>...</td>\n      <td>...</td>\n    </tr>\n    <tr>\n      <th>95</th>\n      <td>0.612403</td>\n      <td>0.598837</td>\n      <td>0.426573</td>\n      <td>0.634921</td>\n      <td>0.629237</td>\n      <td>0.588768</td>\n      <td>0.610922</td>\n      <td>0.277228</td>\n      <td>0.649398</td>\n      <td>0.526563</td>\n      <td>...</td>\n      <td>0.601205</td>\n      <td>0.630682</td>\n      <td>0.588629</td>\n      <td>0.503676</td>\n      <td>0.509091</td>\n      <td>0.000000</td>\n      <td>0.451562</td>\n      <td>0.614610</td>\n      <td>0.410843</td>\n      <td>0.20</td>\n    </tr>\n    <tr>\n      <th>96</th>\n      <td>0.604651</td>\n      <td>0.569767</td>\n      <td>0.430070</td>\n      <td>0.656085</td>\n      <td>0.625000</td>\n      <td>0.585145</td>\n      <td>0.627986</td>\n      <td>0.346535</td>\n      <td>0.618750</td>\n      <td>0.570312</td>\n      <td>...</td>\n      <td>0.584375</td>\n      <td>0.639062</td>\n      <td>0.640468</td>\n      <td>0.536765</td>\n      <td>0.500000</td>\n      <td>0.451562</td>\n      <td>0.000000</td>\n      <td>0.623437</td>\n      <td>0.415625</td>\n      <td>0.15</td>\n    </tr>\n    <tr>\n      <th>97</th>\n      <td>0.571705</td>\n      <td>0.473837</td>\n      <td>0.552448</td>\n      <td>0.611111</td>\n      <td>0.529661</td>\n      <td>0.579710</td>\n      <td>0.395904</td>\n      <td>0.549505</td>\n      <td>0.535264</td>\n      <td>0.631250</td>\n      <td>...</td>\n      <td>0.523929</td>\n      <td>0.490057</td>\n      <td>0.536789</td>\n      <td>0.625000</td>\n      <td>0.390909</td>\n      <td>0.614610</td>\n      <td>0.623437</td>\n      <td>0.000000</td>\n      <td>0.571788</td>\n      <td>0.30</td>\n    </tr>\n    <tr>\n      <th>98</th>\n      <td>0.594961</td>\n      <td>0.578488</td>\n      <td>0.328671</td>\n      <td>0.619048</td>\n      <td>0.593220</td>\n      <td>0.545290</td>\n      <td>0.575085</td>\n      <td>0.316832</td>\n      <td>0.635287</td>\n      <td>0.512500</td>\n      <td>...</td>\n      <td>0.567416</td>\n      <td>0.612216</td>\n      <td>0.541806</td>\n      <td>0.503676</td>\n      <td>0.463636</td>\n      <td>0.410843</td>\n      <td>0.415625</td>\n      <td>0.571788</td>\n      <td>0.000000</td>\n      <td>0.20</td>\n    </tr>\n    <tr>\n      <th>99</th>\n      <td>0.350000</td>\n      <td>0.400000</td>\n      <td>0.200000</td>\n      <td>0.250000</td>\n      <td>0.400000</td>\n      <td>0.450000</td>\n      <td>0.350000</td>\n      <td>0.400000</td>\n      <td>0.300000</td>\n      <td>0.300000</td>\n      <td>...</td>\n      <td>0.200000</td>\n      <td>0.350000</td>\n      <td>0.300000</td>\n      <td>0.350000</td>\n      <td>0.300000</td>\n      <td>0.200000</td>\n      <td>0.150000</td>\n      <td>0.300000</td>\n      <td>0.200000</td>\n      <td>0.00</td>\n    </tr>\n  </tbody>\n</table>\n<p>100 rows × 100 columns</p>\n</div>"
     },
     "execution_count": 3,
     "metadata": {},
     "output_type": "execute_result"
    }
   ],
   "source": [
    "# Basic Scoring\n",
    "scorer = met.scoring.Scorer()\n",
    "# metronome is also the default column name\n",
    "scorer.dist_matrix(df, col='metronome')"
   ]
  },
  {
   "cell_type": "code",
   "execution_count": 4,
   "metadata": {
    "ExecuteTime": {
     "end_time": "2023-06-21T18:36:26.806708900Z",
     "start_time": "2023-06-21T18:36:07.917865400Z"
    }
   },
   "outputs": [
    {
     "name": "stderr",
     "output_type": "stream",
     "text": [
      "2023-06-21 14:36:19,238\tINFO worker.py:1636 -- Started a local Ray instance.\n"
     ]
    },
    {
     "data": {
      "text/plain": "          0         1         2         3         4         5         6   \\\n0   0.000000  0.581395  0.583916  0.722222  0.620763  0.389535  0.573643   \n1   0.581395  0.000000  0.566434  0.636628  0.584302  0.593023  0.526163   \n2   0.583916  0.566434  0.000000  0.646853  0.562937  0.580420  0.559441   \n3   0.722222  0.636628  0.646853  0.000000  0.634921  0.687831  0.600529   \n4   0.620763  0.584302  0.562937  0.634921  0.000000  0.608051  0.472458   \n..       ...       ...       ...       ...       ...       ...       ...   \n95  0.612403  0.598837  0.426573  0.634921  0.629237  0.588768  0.610922   \n96  0.604651  0.569767  0.430070  0.656085  0.625000  0.585145  0.627986   \n97  0.571705  0.473837  0.552448  0.611111  0.529661  0.579710  0.395904   \n98  0.594961  0.578488  0.328671  0.619048  0.593220  0.545290  0.575085   \n99  0.350000  0.400000  0.200000  0.250000  0.400000  0.450000  0.350000   \n\n          7         8         9   ...        90        91        92        93  \\\n0   0.564356  0.536822  0.672481  ...  0.577519  0.585271  0.439922  0.650735   \n1   0.514851  0.526163  0.508721  ...  0.531977  0.531977  0.561047  0.599265   \n2   0.420792  0.562937  0.520979  ...  0.555944  0.569930  0.562937  0.621324   \n3   0.618812  0.608466  0.592593  ...  0.544974  0.579365  0.658730  0.577206   \n4   0.564356  0.485169  0.633475  ...  0.510593  0.512712  0.597458  0.595588   \n..       ...       ...       ...  ...       ...       ...       ...       ...   \n95  0.277228  0.649398  0.526563  ...  0.601205  0.630682  0.588629  0.503676   \n96  0.346535  0.618750  0.570312  ...  0.584375  0.639062  0.640468  0.536765   \n97  0.549505  0.535264  0.631250  ...  0.523929  0.490057  0.536789  0.625000   \n98  0.316832  0.635287  0.512500  ...  0.567416  0.612216  0.541806  0.503676   \n99  0.400000  0.300000  0.300000  ...  0.200000  0.350000  0.300000  0.350000   \n\n          94        95        96        97        98    99  \n0   0.472727  0.612403  0.604651  0.571705  0.594961  0.35  \n1   0.418182  0.598837  0.569767  0.473837  0.578488  0.40  \n2   0.536364  0.426573  0.430070  0.552448  0.328671  0.20  \n3   0.563636  0.634921  0.656085  0.611111  0.619048  0.25  \n4   0.454545  0.629237  0.625000  0.529661  0.593220  0.40  \n..       ...       ...       ...       ...       ...   ...  \n95  0.509091  0.000000  0.451562  0.614610  0.410843  0.20  \n96  0.500000  0.451562  0.000000  0.623437  0.415625  0.15  \n97  0.390909  0.614610  0.623437  0.000000  0.571788  0.30  \n98  0.463636  0.410843  0.415625  0.571788  0.000000  0.20  \n99  0.300000  0.200000  0.150000  0.300000  0.200000  0.00  \n\n[100 rows x 100 columns]",
      "text/html": "<div>\n<style scoped>\n    .dataframe tbody tr th:only-of-type {\n        vertical-align: middle;\n    }\n\n    .dataframe tbody tr th {\n        vertical-align: top;\n    }\n\n    .dataframe thead th {\n        text-align: right;\n    }\n</style>\n<table border=\"1\" class=\"dataframe\">\n  <thead>\n    <tr style=\"text-align: right;\">\n      <th></th>\n      <th>0</th>\n      <th>1</th>\n      <th>2</th>\n      <th>3</th>\n      <th>4</th>\n      <th>5</th>\n      <th>6</th>\n      <th>7</th>\n      <th>8</th>\n      <th>9</th>\n      <th>...</th>\n      <th>90</th>\n      <th>91</th>\n      <th>92</th>\n      <th>93</th>\n      <th>94</th>\n      <th>95</th>\n      <th>96</th>\n      <th>97</th>\n      <th>98</th>\n      <th>99</th>\n    </tr>\n  </thead>\n  <tbody>\n    <tr>\n      <th>0</th>\n      <td>0.000000</td>\n      <td>0.581395</td>\n      <td>0.583916</td>\n      <td>0.722222</td>\n      <td>0.620763</td>\n      <td>0.389535</td>\n      <td>0.573643</td>\n      <td>0.564356</td>\n      <td>0.536822</td>\n      <td>0.672481</td>\n      <td>...</td>\n      <td>0.577519</td>\n      <td>0.585271</td>\n      <td>0.439922</td>\n      <td>0.650735</td>\n      <td>0.472727</td>\n      <td>0.612403</td>\n      <td>0.604651</td>\n      <td>0.571705</td>\n      <td>0.594961</td>\n      <td>0.35</td>\n    </tr>\n    <tr>\n      <th>1</th>\n      <td>0.581395</td>\n      <td>0.000000</td>\n      <td>0.566434</td>\n      <td>0.636628</td>\n      <td>0.584302</td>\n      <td>0.593023</td>\n      <td>0.526163</td>\n      <td>0.514851</td>\n      <td>0.526163</td>\n      <td>0.508721</td>\n      <td>...</td>\n      <td>0.531977</td>\n      <td>0.531977</td>\n      <td>0.561047</td>\n      <td>0.599265</td>\n      <td>0.418182</td>\n      <td>0.598837</td>\n      <td>0.569767</td>\n      <td>0.473837</td>\n      <td>0.578488</td>\n      <td>0.40</td>\n    </tr>\n    <tr>\n      <th>2</th>\n      <td>0.583916</td>\n      <td>0.566434</td>\n      <td>0.000000</td>\n      <td>0.646853</td>\n      <td>0.562937</td>\n      <td>0.580420</td>\n      <td>0.559441</td>\n      <td>0.420792</td>\n      <td>0.562937</td>\n      <td>0.520979</td>\n      <td>...</td>\n      <td>0.555944</td>\n      <td>0.569930</td>\n      <td>0.562937</td>\n      <td>0.621324</td>\n      <td>0.536364</td>\n      <td>0.426573</td>\n      <td>0.430070</td>\n      <td>0.552448</td>\n      <td>0.328671</td>\n      <td>0.20</td>\n    </tr>\n    <tr>\n      <th>3</th>\n      <td>0.722222</td>\n      <td>0.636628</td>\n      <td>0.646853</td>\n      <td>0.000000</td>\n      <td>0.634921</td>\n      <td>0.687831</td>\n      <td>0.600529</td>\n      <td>0.618812</td>\n      <td>0.608466</td>\n      <td>0.592593</td>\n      <td>...</td>\n      <td>0.544974</td>\n      <td>0.579365</td>\n      <td>0.658730</td>\n      <td>0.577206</td>\n      <td>0.563636</td>\n      <td>0.634921</td>\n      <td>0.656085</td>\n      <td>0.611111</td>\n      <td>0.619048</td>\n      <td>0.25</td>\n    </tr>\n    <tr>\n      <th>4</th>\n      <td>0.620763</td>\n      <td>0.584302</td>\n      <td>0.562937</td>\n      <td>0.634921</td>\n      <td>0.000000</td>\n      <td>0.608051</td>\n      <td>0.472458</td>\n      <td>0.564356</td>\n      <td>0.485169</td>\n      <td>0.633475</td>\n      <td>...</td>\n      <td>0.510593</td>\n      <td>0.512712</td>\n      <td>0.597458</td>\n      <td>0.595588</td>\n      <td>0.454545</td>\n      <td>0.629237</td>\n      <td>0.625000</td>\n      <td>0.529661</td>\n      <td>0.593220</td>\n      <td>0.40</td>\n    </tr>\n    <tr>\n      <th>...</th>\n      <td>...</td>\n      <td>...</td>\n      <td>...</td>\n      <td>...</td>\n      <td>...</td>\n      <td>...</td>\n      <td>...</td>\n      <td>...</td>\n      <td>...</td>\n      <td>...</td>\n      <td>...</td>\n      <td>...</td>\n      <td>...</td>\n      <td>...</td>\n      <td>...</td>\n      <td>...</td>\n      <td>...</td>\n      <td>...</td>\n      <td>...</td>\n      <td>...</td>\n      <td>...</td>\n    </tr>\n    <tr>\n      <th>95</th>\n      <td>0.612403</td>\n      <td>0.598837</td>\n      <td>0.426573</td>\n      <td>0.634921</td>\n      <td>0.629237</td>\n      <td>0.588768</td>\n      <td>0.610922</td>\n      <td>0.277228</td>\n      <td>0.649398</td>\n      <td>0.526563</td>\n      <td>...</td>\n      <td>0.601205</td>\n      <td>0.630682</td>\n      <td>0.588629</td>\n      <td>0.503676</td>\n      <td>0.509091</td>\n      <td>0.000000</td>\n      <td>0.451562</td>\n      <td>0.614610</td>\n      <td>0.410843</td>\n      <td>0.20</td>\n    </tr>\n    <tr>\n      <th>96</th>\n      <td>0.604651</td>\n      <td>0.569767</td>\n      <td>0.430070</td>\n      <td>0.656085</td>\n      <td>0.625000</td>\n      <td>0.585145</td>\n      <td>0.627986</td>\n      <td>0.346535</td>\n      <td>0.618750</td>\n      <td>0.570312</td>\n      <td>...</td>\n      <td>0.584375</td>\n      <td>0.639062</td>\n      <td>0.640468</td>\n      <td>0.536765</td>\n      <td>0.500000</td>\n      <td>0.451562</td>\n      <td>0.000000</td>\n      <td>0.623437</td>\n      <td>0.415625</td>\n      <td>0.15</td>\n    </tr>\n    <tr>\n      <th>97</th>\n      <td>0.571705</td>\n      <td>0.473837</td>\n      <td>0.552448</td>\n      <td>0.611111</td>\n      <td>0.529661</td>\n      <td>0.579710</td>\n      <td>0.395904</td>\n      <td>0.549505</td>\n      <td>0.535264</td>\n      <td>0.631250</td>\n      <td>...</td>\n      <td>0.523929</td>\n      <td>0.490057</td>\n      <td>0.536789</td>\n      <td>0.625000</td>\n      <td>0.390909</td>\n      <td>0.614610</td>\n      <td>0.623437</td>\n      <td>0.000000</td>\n      <td>0.571788</td>\n      <td>0.30</td>\n    </tr>\n    <tr>\n      <th>98</th>\n      <td>0.594961</td>\n      <td>0.578488</td>\n      <td>0.328671</td>\n      <td>0.619048</td>\n      <td>0.593220</td>\n      <td>0.545290</td>\n      <td>0.575085</td>\n      <td>0.316832</td>\n      <td>0.635287</td>\n      <td>0.512500</td>\n      <td>...</td>\n      <td>0.567416</td>\n      <td>0.612216</td>\n      <td>0.541806</td>\n      <td>0.503676</td>\n      <td>0.463636</td>\n      <td>0.410843</td>\n      <td>0.415625</td>\n      <td>0.571788</td>\n      <td>0.000000</td>\n      <td>0.20</td>\n    </tr>\n    <tr>\n      <th>99</th>\n      <td>0.350000</td>\n      <td>0.400000</td>\n      <td>0.200000</td>\n      <td>0.250000</td>\n      <td>0.400000</td>\n      <td>0.450000</td>\n      <td>0.350000</td>\n      <td>0.400000</td>\n      <td>0.300000</td>\n      <td>0.300000</td>\n      <td>...</td>\n      <td>0.200000</td>\n      <td>0.350000</td>\n      <td>0.300000</td>\n      <td>0.350000</td>\n      <td>0.300000</td>\n      <td>0.200000</td>\n      <td>0.150000</td>\n      <td>0.300000</td>\n      <td>0.200000</td>\n      <td>0.00</td>\n    </tr>\n  </tbody>\n</table>\n<p>100 rows × 100 columns</p>\n</div>"
     },
     "execution_count": 4,
     "metadata": {},
     "output_type": "execute_result"
    }
   ],
   "source": [
    "# Fast Scoring (runs ray locally, may be more fragile)\n",
    "scorer = met.scoring.Scorer()\n",
    "# metronome is also the default column name\n",
    "scorer.dist_matrix_parallel(df, col='metronome')"
   ]
  },
  {
   "cell_type": "code",
   "execution_count": 5,
   "metadata": {
    "ExecuteTime": {
     "end_time": "2023-06-21T18:36:33.974322300Z",
     "start_time": "2023-06-21T18:36:26.806708900Z"
    }
   },
   "outputs": [
    {
     "data": {
      "text/plain": "          0         1         2         3         4         5         6   \\\n0   0.000000  0.709302  0.699301  0.783069  0.741525  0.511628  0.684109   \n1   0.709302  0.000000  0.660839  0.741279  0.680233  0.706395  0.593023   \n2   0.699301  0.660839  0.000000  0.695804  0.716783  0.699301  0.646853   \n3   0.783069  0.741279  0.695804  0.000000  0.769841  0.801587  0.714286   \n4   0.741525  0.680233  0.716783  0.769841  0.000000  0.701271  0.588983   \n..       ...       ...       ...       ...       ...       ...       ...   \n95  0.689922  0.648256  0.513986  0.735450  0.724576  0.679348  0.711604   \n96  0.705426  0.651163  0.440559  0.701058  0.711864  0.693841  0.733788   \n97  0.682171  0.552326  0.629371  0.724868  0.669492  0.684783  0.513652   \n98  0.715116  0.659884  0.440559  0.679894  0.707627  0.701087  0.656997   \n99  0.450000  0.450000  0.200000  0.300000  0.400000  0.500000  0.350000   \n\n          7         8         9   ...        90        91        92        93  \\\n0   0.668317  0.641473  0.753876  ...  0.656977  0.678295  0.589147  0.761029   \n1   0.618812  0.607558  0.622093  ...  0.630814  0.598837  0.622093  0.716912   \n2   0.539604  0.653846  0.622378  ...  0.639860  0.646853  0.657343  0.713235   \n3   0.722772  0.722222  0.656085  ...  0.656085  0.706349  0.751323  0.661765   \n4   0.658416  0.595339  0.726695  ...  0.620763  0.629237  0.688559  0.691176   \n..       ...       ...       ...  ...       ...       ...       ...       ...   \n95  0.391089  0.721687  0.659375  ...  0.675904  0.732955  0.695652  0.595588   \n96  0.450495  0.715625  0.678125  ...  0.650000  0.748437  0.739130  0.580882   \n97  0.594059  0.642317  0.725000  ...  0.629723  0.640625  0.620401  0.698529   \n98  0.386139  0.741895  0.621875  ...  0.674157  0.711648  0.685619  0.577206   \n99  0.450000  0.375000  0.350000  ...  0.250000  0.450000  0.400000  0.400000   \n\n          94        95        96        97        98    99  \n0   0.554545  0.689922  0.705426  0.682171  0.715116  0.45  \n1   0.545455  0.648256  0.651163  0.552326  0.659884  0.45  \n2   0.609091  0.513986  0.440559  0.629371  0.440559  0.20  \n3   0.618182  0.735450  0.701058  0.724868  0.679894  0.30  \n4   0.563636  0.724576  0.711864  0.669492  0.707627  0.40  \n..       ...       ...       ...       ...       ...   ...  \n95  0.581818  0.000000  0.545312  0.668766  0.532530  0.30  \n96  0.600000  0.545312  0.000000  0.706250  0.537500  0.15  \n97  0.454545  0.668766  0.706250  0.000000  0.648615  0.40  \n98  0.500000  0.532530  0.537500  0.648615  0.000000  0.20  \n99  0.400000  0.300000  0.150000  0.400000  0.200000  0.00  \n\n[100 rows x 100 columns]",
      "text/html": "<div>\n<style scoped>\n    .dataframe tbody tr th:only-of-type {\n        vertical-align: middle;\n    }\n\n    .dataframe tbody tr th {\n        vertical-align: top;\n    }\n\n    .dataframe thead th {\n        text-align: right;\n    }\n</style>\n<table border=\"1\" class=\"dataframe\">\n  <thead>\n    <tr style=\"text-align: right;\">\n      <th></th>\n      <th>0</th>\n      <th>1</th>\n      <th>2</th>\n      <th>3</th>\n      <th>4</th>\n      <th>5</th>\n      <th>6</th>\n      <th>7</th>\n      <th>8</th>\n      <th>9</th>\n      <th>...</th>\n      <th>90</th>\n      <th>91</th>\n      <th>92</th>\n      <th>93</th>\n      <th>94</th>\n      <th>95</th>\n      <th>96</th>\n      <th>97</th>\n      <th>98</th>\n      <th>99</th>\n    </tr>\n  </thead>\n  <tbody>\n    <tr>\n      <th>0</th>\n      <td>0.000000</td>\n      <td>0.709302</td>\n      <td>0.699301</td>\n      <td>0.783069</td>\n      <td>0.741525</td>\n      <td>0.511628</td>\n      <td>0.684109</td>\n      <td>0.668317</td>\n      <td>0.641473</td>\n      <td>0.753876</td>\n      <td>...</td>\n      <td>0.656977</td>\n      <td>0.678295</td>\n      <td>0.589147</td>\n      <td>0.761029</td>\n      <td>0.554545</td>\n      <td>0.689922</td>\n      <td>0.705426</td>\n      <td>0.682171</td>\n      <td>0.715116</td>\n      <td>0.45</td>\n    </tr>\n    <tr>\n      <th>1</th>\n      <td>0.709302</td>\n      <td>0.000000</td>\n      <td>0.660839</td>\n      <td>0.741279</td>\n      <td>0.680233</td>\n      <td>0.706395</td>\n      <td>0.593023</td>\n      <td>0.618812</td>\n      <td>0.607558</td>\n      <td>0.622093</td>\n      <td>...</td>\n      <td>0.630814</td>\n      <td>0.598837</td>\n      <td>0.622093</td>\n      <td>0.716912</td>\n      <td>0.545455</td>\n      <td>0.648256</td>\n      <td>0.651163</td>\n      <td>0.552326</td>\n      <td>0.659884</td>\n      <td>0.45</td>\n    </tr>\n    <tr>\n      <th>2</th>\n      <td>0.699301</td>\n      <td>0.660839</td>\n      <td>0.000000</td>\n      <td>0.695804</td>\n      <td>0.716783</td>\n      <td>0.699301</td>\n      <td>0.646853</td>\n      <td>0.539604</td>\n      <td>0.653846</td>\n      <td>0.622378</td>\n      <td>...</td>\n      <td>0.639860</td>\n      <td>0.646853</td>\n      <td>0.657343</td>\n      <td>0.713235</td>\n      <td>0.609091</td>\n      <td>0.513986</td>\n      <td>0.440559</td>\n      <td>0.629371</td>\n      <td>0.440559</td>\n      <td>0.20</td>\n    </tr>\n    <tr>\n      <th>3</th>\n      <td>0.783069</td>\n      <td>0.741279</td>\n      <td>0.695804</td>\n      <td>0.000000</td>\n      <td>0.769841</td>\n      <td>0.801587</td>\n      <td>0.714286</td>\n      <td>0.722772</td>\n      <td>0.722222</td>\n      <td>0.656085</td>\n      <td>...</td>\n      <td>0.656085</td>\n      <td>0.706349</td>\n      <td>0.751323</td>\n      <td>0.661765</td>\n      <td>0.618182</td>\n      <td>0.735450</td>\n      <td>0.701058</td>\n      <td>0.724868</td>\n      <td>0.679894</td>\n      <td>0.30</td>\n    </tr>\n    <tr>\n      <th>4</th>\n      <td>0.741525</td>\n      <td>0.680233</td>\n      <td>0.716783</td>\n      <td>0.769841</td>\n      <td>0.000000</td>\n      <td>0.701271</td>\n      <td>0.588983</td>\n      <td>0.658416</td>\n      <td>0.595339</td>\n      <td>0.726695</td>\n      <td>...</td>\n      <td>0.620763</td>\n      <td>0.629237</td>\n      <td>0.688559</td>\n      <td>0.691176</td>\n      <td>0.563636</td>\n      <td>0.724576</td>\n      <td>0.711864</td>\n      <td>0.669492</td>\n      <td>0.707627</td>\n      <td>0.40</td>\n    </tr>\n    <tr>\n      <th>...</th>\n      <td>...</td>\n      <td>...</td>\n      <td>...</td>\n      <td>...</td>\n      <td>...</td>\n      <td>...</td>\n      <td>...</td>\n      <td>...</td>\n      <td>...</td>\n      <td>...</td>\n      <td>...</td>\n      <td>...</td>\n      <td>...</td>\n      <td>...</td>\n      <td>...</td>\n      <td>...</td>\n      <td>...</td>\n      <td>...</td>\n      <td>...</td>\n      <td>...</td>\n      <td>...</td>\n    </tr>\n    <tr>\n      <th>95</th>\n      <td>0.689922</td>\n      <td>0.648256</td>\n      <td>0.513986</td>\n      <td>0.735450</td>\n      <td>0.724576</td>\n      <td>0.679348</td>\n      <td>0.711604</td>\n      <td>0.391089</td>\n      <td>0.721687</td>\n      <td>0.659375</td>\n      <td>...</td>\n      <td>0.675904</td>\n      <td>0.732955</td>\n      <td>0.695652</td>\n      <td>0.595588</td>\n      <td>0.581818</td>\n      <td>0.000000</td>\n      <td>0.545312</td>\n      <td>0.668766</td>\n      <td>0.532530</td>\n      <td>0.30</td>\n    </tr>\n    <tr>\n      <th>96</th>\n      <td>0.705426</td>\n      <td>0.651163</td>\n      <td>0.440559</td>\n      <td>0.701058</td>\n      <td>0.711864</td>\n      <td>0.693841</td>\n      <td>0.733788</td>\n      <td>0.450495</td>\n      <td>0.715625</td>\n      <td>0.678125</td>\n      <td>...</td>\n      <td>0.650000</td>\n      <td>0.748437</td>\n      <td>0.739130</td>\n      <td>0.580882</td>\n      <td>0.600000</td>\n      <td>0.545312</td>\n      <td>0.000000</td>\n      <td>0.706250</td>\n      <td>0.537500</td>\n      <td>0.15</td>\n    </tr>\n    <tr>\n      <th>97</th>\n      <td>0.682171</td>\n      <td>0.552326</td>\n      <td>0.629371</td>\n      <td>0.724868</td>\n      <td>0.669492</td>\n      <td>0.684783</td>\n      <td>0.513652</td>\n      <td>0.594059</td>\n      <td>0.642317</td>\n      <td>0.725000</td>\n      <td>...</td>\n      <td>0.629723</td>\n      <td>0.640625</td>\n      <td>0.620401</td>\n      <td>0.698529</td>\n      <td>0.454545</td>\n      <td>0.668766</td>\n      <td>0.706250</td>\n      <td>0.000000</td>\n      <td>0.648615</td>\n      <td>0.40</td>\n    </tr>\n    <tr>\n      <th>98</th>\n      <td>0.715116</td>\n      <td>0.659884</td>\n      <td>0.440559</td>\n      <td>0.679894</td>\n      <td>0.707627</td>\n      <td>0.701087</td>\n      <td>0.656997</td>\n      <td>0.386139</td>\n      <td>0.741895</td>\n      <td>0.621875</td>\n      <td>...</td>\n      <td>0.674157</td>\n      <td>0.711648</td>\n      <td>0.685619</td>\n      <td>0.577206</td>\n      <td>0.500000</td>\n      <td>0.532530</td>\n      <td>0.537500</td>\n      <td>0.648615</td>\n      <td>0.000000</td>\n      <td>0.20</td>\n    </tr>\n    <tr>\n      <th>99</th>\n      <td>0.450000</td>\n      <td>0.450000</td>\n      <td>0.200000</td>\n      <td>0.300000</td>\n      <td>0.400000</td>\n      <td>0.500000</td>\n      <td>0.350000</td>\n      <td>0.450000</td>\n      <td>0.375000</td>\n      <td>0.350000</td>\n      <td>...</td>\n      <td>0.250000</td>\n      <td>0.450000</td>\n      <td>0.400000</td>\n      <td>0.400000</td>\n      <td>0.400000</td>\n      <td>0.300000</td>\n      <td>0.150000</td>\n      <td>0.400000</td>\n      <td>0.200000</td>\n      <td>0.00</td>\n    </tr>\n  </tbody>\n</table>\n<p>100 rows × 100 columns</p>\n</div>"
     },
     "execution_count": 5,
     "metadata": {},
     "output_type": "execute_result"
    }
   ],
   "source": [
    "# Advanced Scoring - Custom params for the BioPython Aligner\n",
    "\n",
    "# Match dict - bonus for matches, penalty for mismatches\n",
    "md = {\n",
    "    (\"|\", \"|\"): 2,\n",
    "    (\"w\", \"w\"): 2,\n",
    "    (\"S\", \"S\"): 2,\n",
    "    (\".\", \".\"): 2,\n",
    "    (\"|\", \"S\"): -4,\n",
    "    (\"|\", \"w\"): -3,\n",
    "    (\"|\", \".\"): -2,\n",
    "    (\"w\", \"S\"): -2,\n",
    "    (\"w\", \".\"): 0,  \n",
    "    (\"S\", \".\"): 0,\n",
    "} \n",
    "# open and extend penalties for alignment gaps\n",
    "open_penalty = -10\n",
    "extend_penalty = -1\n",
    "\n",
    "s = met.scoring.Scorer(match_dict=md, open_gap_score = open_penalty, extend_gap_score = extend_penalty)\n",
    "s.dist_matrix(df)"
   ]
  },
  {
   "attachments": {},
   "cell_type": "markdown",
   "metadata": {},
   "source": [
    "# Sampling Examples"
   ]
  },
  {
   "cell_type": "code",
   "execution_count": 6,
   "metadata": {
    "ExecuteTime": {
     "end_time": "2023-06-21T18:36:34.084346100Z",
     "start_time": "2023-06-21T18:36:33.976323600Z"
    }
   },
   "outputs": [
    {
     "data": {
      "text/plain": "             author                   work    born    year  \\\n1       Dyk, Viktor      „VOGELFREI“ (VII)  1877.0  1922.0   \n17  Haasz, Jaroslav              MODLITBA.  1860.0  1918.0   \n40  Haasz, Jaroslav  V PARKU. (I. NEPTUN.)  1860.0  1918.0   \n\n                                            metronome  meter  \n1   S.S.w.Sww.w.Sw.Sw.Sw.|w.Sw.Sww.w.Sww.w.Sw.|S.S...  alex6  \n17  w.Sw.Sww.w.Sw.S.w.Sw.|w.Sw.Sww.S.Sww.w.S.|w.Sw...  alex6  \n40  S.S.w.Sw.S.S.Sw.S.w.Sw.|w.Sw.Sww.S.Swww.Sw.|w....  alex6  ",
      "text/html": "<div>\n<style scoped>\n    .dataframe tbody tr th:only-of-type {\n        vertical-align: middle;\n    }\n\n    .dataframe tbody tr th {\n        vertical-align: top;\n    }\n\n    .dataframe thead th {\n        text-align: right;\n    }\n</style>\n<table border=\"1\" class=\"dataframe\">\n  <thead>\n    <tr style=\"text-align: right;\">\n      <th></th>\n      <th>author</th>\n      <th>work</th>\n      <th>born</th>\n      <th>year</th>\n      <th>metronome</th>\n      <th>meter</th>\n    </tr>\n  </thead>\n  <tbody>\n    <tr>\n      <th>1</th>\n      <td>Dyk, Viktor</td>\n      <td>„VOGELFREI“ (VII)</td>\n      <td>1877.0</td>\n      <td>1922.0</td>\n      <td>S.S.w.Sww.w.Sw.Sw.Sw.|w.Sw.Sww.w.Sww.w.Sw.|S.S...</td>\n      <td>alex6</td>\n    </tr>\n    <tr>\n      <th>17</th>\n      <td>Haasz, Jaroslav</td>\n      <td>MODLITBA.</td>\n      <td>1860.0</td>\n      <td>1918.0</td>\n      <td>w.Sw.Sww.w.Sw.S.w.Sw.|w.Sw.Sww.S.Sww.w.S.|w.Sw...</td>\n      <td>alex6</td>\n    </tr>\n    <tr>\n      <th>40</th>\n      <td>Haasz, Jaroslav</td>\n      <td>V PARKU. (I. NEPTUN.)</td>\n      <td>1860.0</td>\n      <td>1918.0</td>\n      <td>S.S.w.Sw.S.S.Sw.S.w.Sw.|w.Sw.Sww.S.Swww.Sw.|w....</td>\n      <td>alex6</td>\n    </tr>\n  </tbody>\n</table>\n</div>"
     },
     "execution_count": 6,
     "metadata": {},
     "output_type": "execute_result"
    }
   ],
   "source": [
    "ss = met.sampling.subset(df, frm=1850, to=1950, meter=\"alex6\")\n",
    "ss"
   ]
  },
  {
   "cell_type": "code",
   "execution_count": 7,
   "metadata": {
    "ExecuteTime": {
     "end_time": "2023-06-21T18:36:34.229379300Z",
     "start_time": "2023-06-21T18:36:34.008330500Z"
    }
   },
   "outputs": [
    {
     "data": {
      "text/plain": "'w.Sw.Sww.S.Swww.Sw.|S.Sw.Sww.w.Sw.Swww.|w.Sw.Sww.S.Sw.Swww.|w.w.w.Sww.w.Sw.Swww.|w.Sw.Sw.S.S.Swww.Sw.|w.Sw.Sww.w.Sw.Sw.Sw.|w.S.w.Sww.w.S.ww.w.Sw.|w.Sw.Sw.S.S.Swww.Sw.|w.Sw.Sww.w.Sw.S.w.Sw.|w.Sw.Sww.S.Sww.w.S.|w.Sw.Sww.w.Sw.Swww.|w.Sw.Sww.S.Sww.w.S.|S.S.w.Sww.w.Sw.Sw.Sw.|w.Sw.Sww.w.Sww.w.Sw.|S.S.w.Sww.S.Sw.Swww.|S.S.w.Sww.S.Sw.S.w.Sw.|w.Sw.Sww.w.Sw.Sw.Sw.|w.Sw.Sww.w.Sw.Sww.|w.Sw.Sww.w.Sw.Sw.Sw.|w.Sw.Sww.w.Sw.Sww.|S.ww.Sww.w.Sw.Sw.Sw.|S.ww.Sww.w.Sw.Sw.Sw.|S.ww.Sww.w.Sw.Sw.Sw.|S.S.w.Sww.w.Sw.Sww.w.|w.Sw.Sww.w.Sw.Sw.Sw.|w.Sw.Sww.S.Swww.Sw.|w.Sw.Sw.w.w.Sw.Swww.|w.Sw.Sw.S.w.S.w.Sw.Sw.|w.Sw.Sww.w.Sw.Sw.Sw.|w.Sw.Sww.w.Sw.Sww.|w.Sw.Sww.w.Sw.Sw.Sw.|w.Sw.Sww.w.Sw.Sww.|S.ww.Sww.w.Sw.Sw.Sw.|S.ww.Sww.w.Sw.Sw.Sw.|S.ww.Sww.w.Sw.Sw.Sw.|S.S.w.Sww.w.Sw.Sww.w.|S.S.w.Sww.w.Sw.Sw.Sw.|w.Sw.Sww.w.Sww.w.Sw.|S.S.w.Sww.S.Sw.Swww.|S.S.w.Sww.S.Sw.S.w.Sw.|S.S.w.Sww.w.Sw.Sw.Sw.|w.Sw.Sww.w.Sww.w.Sw.|S.S.w.Sww.S.Sw.Swww.|S.S.w.Sww.S.Sw.S.w.Sw.|w.Sw.Sww.w.Sw.S.w.Sw.|w.Sw.Sww.S.Sww.w.S.|w.Sw.Sww.w.Sw.Swww.|w.Sw.Sww.S.Sww.w.S.|w.Sw.Sww.w.S.S.Sw.Sw.|S.Sw.Sww.w.Sw.Sw.S.|w.Sw.Sw.S.w.Sw.Sw.Sw.|S.Sw.S.ww.w.Sw.Sww.|w.Sw.Sww.w.Sw.Sw.Sw.|w.Sw.Sww.w.Sw.Sww.|w.Sw.Sww.w.Sw.Sw.Sw.|w.Sw.Sww.w.Sw.Sww.|w.Sw.Sww.S.Sw.Sw.Sw.|w.S.w.S.w.S.w.Sw.Sw.Sw.|w.Sw.Sww.w.Sw.Swww.|S.S.w.Sw.w.S.Sw.Swww.|w.Sw.Sww.w.Sw.Sw.Sw.|S.Sw.Sww.w.Sww.w.Sw.|w.Sw.Sww.S.Sw.Sw.Sw.|S.w.w.Sww.w.Swww.Sw.|w.Sw.Sww.w.Sw.Sw.Sw.|w.Sw.Sww.w.Sw.Sww.|w.Sw.Sww.w.Sw.Sw.Sw.|w.Sw.Sww.w.Sw.Sww.|w.Sw.Sww.w.Sw.Sw.Sw.|w.Sw.Sww.w.Sw.Sww.|w.Sw.Sww.w.Sw.Sw.Sw.|w.Sw.Sww.w.Sw.Sww.|S.ww.Sww.w.Sw.Sw.Sw.|S.ww.Sww.w.Sw.Sw.Sw.|S.ww.Sww.w.Sw.Sw.Sw.|S.S.w.Sww.w.Sw.Sww.w.|w.Sw.Sww.w.Sw.Sw.Sw.|S.Sw.S.w.S.w.Sw.Sw.Sw.|w.w.S.Sww.w.Sw.Sw.Sw.|w.Sw.Sww.S.Sww.w.Sw.|'"
     },
     "execution_count": 7,
     "metadata": {},
     "output_type": "execute_result"
    }
   ],
   "source": [
    "# synthetic metronome from a subset\n",
    "\n",
    "sm = met.sampling.synthetic_metronome(ss, 80)\n",
    "sm"
   ]
  },
  {
   "cell_type": "code",
   "execution_count": 7,
   "metadata": {
    "ExecuteTime": {
     "end_time": "2023-06-21T18:36:34.230379Z",
     "start_time": "2023-06-21T18:36:34.026333700Z"
    }
   },
   "outputs": [],
   "source": []
  }
 ],
 "metadata": {
  "kernelspec": {
   "display_name": "py39",
   "language": "python",
   "name": "python3"
  },
  "language_info": {
   "codemirror_mode": {
    "name": "ipython",
    "version": 3
   },
   "file_extension": ".py",
   "mimetype": "text/x-python",
   "name": "python",
   "nbconvert_exporter": "python",
   "pygments_lexer": "ipython3",
   "version": "3.9.11"
  },
  "orig_nbformat": 4
 },
 "nbformat": 4,
 "nbformat_minor": 2
}
